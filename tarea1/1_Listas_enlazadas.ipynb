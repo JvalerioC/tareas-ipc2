{
  "nbformat": 4,
  "nbformat_minor": 0,
  "metadata": {
    "colab": {
      "name": "1. Listas enlazadas.ipynb",
      "provenance": [],
      "collapsed_sections": [],
      "authorship_tag": "ABX9TyMJMhOasVoQ7SflxDTNZMSj",
      "include_colab_link": true
    },
    "kernelspec": {
      "name": "python3",
      "display_name": "Python 3"
    },
    "language_info": {
      "name": "python"
    }
  },
  "cells": [
    {
      "cell_type": "markdown",
      "metadata": {
        "id": "view-in-github",
        "colab_type": "text"
      },
      "source": [
        "<a href=\"https://colab.research.google.com/github/JvalerioC/tareas-ipc2/blob/main/tarea1/1_Listas_enlazadas.ipynb\" target=\"_parent\"><img src=\"https://colab.research.google.com/assets/colab-badge.svg\" alt=\"Open In Colab\"/></a>"
      ]
    },
    {
      "cell_type": "markdown",
      "metadata": {
        "id": "n6PlxLZszjMk"
      },
      "source": [
        "## **Listas Enlazadas**\n",
        "**Definicion de la clase estudiante**"
      ]
    },
    {
      "cell_type": "code",
      "metadata": {
        "id": "lxjTS92evVX3"
      },
      "source": [
        "class estudiante:\n",
        "  def __init__(self, carne, nombre, edad, direccion, telefono, email, carrera, puesto):\n",
        "    self.carne = carne\n",
        "    self.nombre = nombre\n",
        "    self.edad = edad\n",
        "    self.direccion = direccion\n",
        "    self.telefono = telefono\n",
        "    self.email = email\n",
        "    self.carrera = carrera\n",
        "    self.puesto = puesto"
      ],
      "execution_count": 21,
      "outputs": []
    },
    {
      "cell_type": "markdown",
      "metadata": {
        "id": "dEuLk1x5zWms"
      },
      "source": [
        "**Definicion de la clase nodo**"
      ]
    },
    {
      "cell_type": "code",
      "metadata": {
        "id": "aQaSXz_5zxHp"
      },
      "source": [
        "class nodo:\n",
        "  def __init__(self, estudiante = None, siguiente = None):\n",
        "    self.estudiante = estudiante\n",
        "    self.siguiente = siguiente"
      ],
      "execution_count": 22,
      "outputs": []
    },
    {
      "cell_type": "markdown",
      "metadata": {
        "id": "EIdgliyr2650"
      },
      "source": [
        "\n",
        "**Definicion de la clase lista enlazada**\n",
        "\n"
      ]
    },
    {
      "cell_type": "code",
      "metadata": {
        "id": "aGXo0BR93Dg1"
      },
      "source": [
        "class lista_enlazada:\n",
        "  def __init__(self):\n",
        "    self.primero = None\n",
        "\n",
        "  def insertar(self, estudiante):\n",
        "    if self.primero is None:\n",
        "      self.primero = nodo(estudiante=estudiante)\n",
        "      return\n",
        "    actual = self.primero\n",
        "    print(self.primero)\n",
        "    while actual.siguiente:\n",
        "      actual = actual.siguiente\n",
        "    actual.siguiente = nodo(estudiante=estudiante)\n",
        "\n",
        "  def recorrer(self):\n",
        "    actual  = self.primero\n",
        "    while actual != None:\n",
        "      print(\"carne: \",actual.estudiante.carne, \"nombre: \",actual.estudiante.nombre, \"email: \", actual.estudiante.email,\"->\")\n",
        "      actual = actual.siguiente\n",
        "\n",
        "  def eliminar(self, carne):\n",
        "    actual = self.primero\n",
        "    antenior = None\n",
        "\n",
        "    while actual and  actual.estudiante.carne != carne:\n",
        "      anterior = actual\n",
        "      actual = actual.siguiente\n",
        "\n",
        "    if anterior is None:\n",
        "      self.primero = actual.siguiente\n",
        "      actual.siguiente = None\n",
        "    elif actual:\n",
        "      anterior.siguiente = actual.siguiente\n",
        "      actual.siguiente = None\n",
        "\n",
        "  def buscar(self, carne):\n",
        "    actual = self.primero\n",
        "\n",
        "    while actual != None:\n",
        "      if actual.estudiante.carne == carne:\n",
        "        print(\"Estudiante encontrado\")\n",
        "        print(\"carne: \",actual.estudiante.carne, \"nombre: \",actual.estudiante.nombre, \"email: \", actual.estudiante.email,\"->\")\n",
        "        return\n",
        "      actual = actual.siguiente\n",
        "\n",
        "    if actual == None:\n",
        "      print(\"El estudiante no se encuentra en la lista\")\n",
        "      \n",
        "\n",
        "    "
      ],
      "execution_count": 23,
      "outputs": []
    },
    {
      "cell_type": "code",
      "metadata": {
        "id": "FdiiGFbPtH2t"
      },
      "source": [
        "e1 =  estudiante(201915059, \"Gerson Ortiz\",20, \"9 calle 10-02\", 44202528, \"gersonortiz@gmail.com\", \"Ingenieria en Sistemas\", \"Programador JR\")\n",
        "e2 =  estudiante(201915060, \"Karen Huarte\",21, \"8 calle 10-02\", 44202529, \"karenhuarte@gmail.com\", \"Ingenieria en Sistemas\", \"Programador JR\")\n",
        "e3 =  estudiante(201915061, \"Luis Mendez\",22, \"7 calle 10-02\", 44202530, \"luismendez@gmail.com\", \"Ingenieria en Sistemas\", \"Programador JR\")"
      ],
      "execution_count": 24,
      "outputs": []
    },
    {
      "cell_type": "code",
      "metadata": {
        "id": "ye-sP3R_t4S8",
        "colab": {
          "base_uri": "https://localhost:8080/"
        },
        "outputId": "e6b4de9a-fd70-4f17-ec8a-214dedee126c"
      },
      "source": [
        "lista_e =  lista_enlazada()\n",
        "lista_e.insertar(e1)\n",
        "lista_e.insertar(e2)\n",
        "lista_e.insertar(e3)"
      ],
      "execution_count": 25,
      "outputs": [
        {
          "output_type": "stream",
          "text": [
            "<__main__.nodo object at 0x7febe3ca0b10>\n",
            "<__main__.nodo object at 0x7febe3ca0b10>\n"
          ],
          "name": "stdout"
        }
      ]
    },
    {
      "cell_type": "code",
      "metadata": {
        "colab": {
          "base_uri": "https://localhost:8080/"
        },
        "id": "ptYddY6buDxZ",
        "outputId": "86fa444e-ef65-44c1-cd43-96e96f3fa63f"
      },
      "source": [
        "lista_e.recorrer()"
      ],
      "execution_count": 26,
      "outputs": [
        {
          "output_type": "stream",
          "text": [
            "carne:  201915059 nombre:  Gerson Ortiz email:  gersonortiz@gmail.com ->\n",
            "carne:  201915060 nombre:  Karen Huarte email:  karenhuarte@gmail.com ->\n",
            "carne:  201915061 nombre:  Luis Mendez email:  luismendez@gmail.com ->\n"
          ],
          "name": "stdout"
        }
      ]
    },
    {
      "cell_type": "code",
      "metadata": {
        "id": "zdztpD4Uuh-2",
        "colab": {
          "base_uri": "https://localhost:8080/"
        },
        "outputId": "adfb2a8a-41b8-4cee-a36b-b783ed6083e7"
      },
      "source": [
        "lista_e.eliminar(201915060)\n",
        "lista_e.recorrer()"
      ],
      "execution_count": 30,
      "outputs": [
        {
          "output_type": "stream",
          "text": [
            "carne:  201915059 nombre:  Gerson Ortiz email:  gersonortiz@gmail.com ->\n",
            "carne:  201915061 nombre:  Luis Mendez email:  luismendez@gmail.com ->\n"
          ],
          "name": "stdout"
        }
      ]
    },
    {
      "cell_type": "code",
      "metadata": {
        "colab": {
          "base_uri": "https://localhost:8080/"
        },
        "id": "8K6nppIoRSl0",
        "outputId": "648b2774-b0e2-4b67-c4a0-50720a6521a8"
      },
      "source": [
        "lista_e.buscar(201915060)"
      ],
      "execution_count": 31,
      "outputs": [
        {
          "output_type": "stream",
          "text": [
            "El estudiante no se encuentra en la lista\n"
          ],
          "name": "stdout"
        }
      ]
    }
  ]
}