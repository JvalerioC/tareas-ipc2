{
  "nbformat": 4,
  "nbformat_minor": 0,
  "metadata": {
    "colab": {
      "name": "Listas Circulaes.ipynb",
      "provenance": [],
      "collapsed_sections": [],
      "authorship_tag": "ABX9TyNkNBs4v/NFyqtDe16Bix21",
      "include_colab_link": true
    },
    "kernelspec": {
      "name": "python3",
      "display_name": "Python 3"
    },
    "language_info": {
      "name": "python"
    }
  },
  "cells": [
    {
      "cell_type": "markdown",
      "metadata": {
        "id": "view-in-github",
        "colab_type": "text"
      },
      "source": [
        "<a href=\"https://colab.research.google.com/github/JvalerioC/tareas-ipc2/blob/main/tarea2/Listas_Circulaes.ipynb\" target=\"_parent\"><img src=\"https://colab.research.google.com/assets/colab-badge.svg\" alt=\"Open In Colab\"/></a>"
      ]
    },
    {
      "cell_type": "code",
      "metadata": {
        "id": "86Ki9Q2-zHMJ"
      },
      "source": [
        "class estudiante:\n",
        "  def __init__(self, carne, nombre, edad, direccion, telefono, email, carrera, puesto):\n",
        "    self.carne = carne\n",
        "    self.nombre = nombre\n",
        "    self.edad = edad\n",
        "    self.direccion = direccion\n",
        "    self.telefono = telefono\n",
        "    self.email = email\n",
        "    self.carrera = carrera\n",
        "    self.puesto = puesto\n",
        "  "
      ],
      "execution_count": 10,
      "outputs": []
    },
    {
      "cell_type": "code",
      "metadata": {
        "id": "UNjIr-YnzQb_"
      },
      "source": [
        "class nodo:\n",
        "  def __init__(self, estudiante = None, siguiente = None):\n",
        "    self.estudiante = estudiante\n",
        "    self.siguiente = siguiente"
      ],
      "execution_count": 11,
      "outputs": []
    },
    {
      "cell_type": "code",
      "metadata": {
        "id": "S5XXKsx5zTb0"
      },
      "source": [
        "class lista_circular:\n",
        "  def __init__(self):\n",
        "    self.primero = None\n",
        "\n",
        "  def insertar(self, estudiante):\n",
        "    if self.primero is None:\n",
        "      self.primero = nodo(estudiante=estudiante)\n",
        "      self.primero.siguiente = self.primero\n",
        "    else:\n",
        "      actual = nodo(estudiante=estudiante, siguiente = self.primero.siguiente)\n",
        "      self.primero.siguiente = actual\n",
        "\n",
        "  def recorrer(self):\n",
        "    if self.primero is None:\n",
        "      return\n",
        "    actual = self.primero\n",
        "    print(\"carne: \",actual.estudiante.carne, \"nombre: \",actual.estudiante.nombre, \"email: \", actual.estudiante.email,\"->\")\n",
        "    while actual.siguiente != self.primero:\n",
        "      actual = actual.siguiente\n",
        "      print(\"carne: \",actual.estudiante.carne, \"nombre: \",actual.estudiante.nombre, \"email: \", actual.estudiante.email,\"->\")\n",
        "  \n",
        "  def eliminar(self, carne):\n",
        "    no_encontrado = \"\"\n",
        "    actual = self.primero\n",
        "    anterior = None\n",
        "\n",
        "    while actual and actual.estudiante.carne != carne:\n",
        "      anterior = actual\n",
        "      actual = actual.siguiente\n",
        "      if actual == self.primero:\n",
        "        no_encontrado = True\n",
        "        break\n",
        "\n",
        "    if not no_encontrado:\n",
        "      if anterior is not None:\n",
        "        anterior.siguiente = actual.siguiente\n",
        "      else:\n",
        "        while actual.siguiente != self.primero:\n",
        "          actual = actual.siguiente\n",
        "        actual.siguiente = self.primero.siguiente\n",
        "        self.primero = self.primero.siguiente\n",
        "\n",
        "  def buscar(self, carne):\n",
        "    actual = self.primero\n",
        "\n",
        "    while actual != None:\n",
        "      if actual.estudiante.carne == carne:\n",
        "        print(\"Estudiante encontrado\")\n",
        "        print(\"carne: \",actual.estudiante.carne, \"nombre: \",actual.estudiante.nombre, \"email: \", actual.estudiante.email,\"->\")\n",
        "        return\n",
        "      actual = actual.siguiente\n",
        "\n",
        "    if actual == None:\n",
        "      print(\"El estudiante no se encuentra en la lista\")"
      ],
      "execution_count": 12,
      "outputs": []
    },
    {
      "cell_type": "code",
      "metadata": {
        "id": "r9tgA3jy9-np"
      },
      "source": [
        "e1 =  estudiante(201915058, \"Gerson Ortiz\",20, \"9 calle 10-02\", 44202528, \"gersonortiz@gmail.com\", \"Ingenieria en Sistemas\", \"Programador JR\")\n",
        "e2 =  estudiante(201915060, \"Karen Huarte\",21, \"8 calle 10-02\", 44202529, \"karenhuarte@gmail.com\", \"Ingenieria en Sistemas\", \"Programador JR\")\n",
        "e3 =  estudiante(201915061, \"Luis Mendez\",22, \"7 calle 10-02\", 44202530, \"luismendez@gmail.com\", \"Ingenieria en Sistemas\", \"Programador JR\")"
      ],
      "execution_count": 13,
      "outputs": []
    },
    {
      "cell_type": "code",
      "metadata": {
        "id": "sp-KxWCP-OKt"
      },
      "source": [
        "lista_c = lista_circular()\n",
        "lista_c.insertar(e1)\n",
        "lista_c.insertar(e2)\n",
        "lista_c.insertar(e3)"
      ],
      "execution_count": 14,
      "outputs": []
    },
    {
      "cell_type": "code",
      "metadata": {
        "id": "DREkO5_9-YMJ",
        "colab": {
          "base_uri": "https://localhost:8080/"
        },
        "outputId": "99b02f59-58d8-42ad-90f4-4b65208c92e2"
      },
      "source": [
        "lista_c.recorrer()"
      ],
      "execution_count": 15,
      "outputs": [
        {
          "output_type": "stream",
          "text": [
            "carne:  201915058 nombre:  Gerson Ortiz email:  gersonortiz@gmail.com ->\n",
            "carne:  201915061 nombre:  Luis Mendez email:  luismendez@gmail.com ->\n",
            "carne:  201915060 nombre:  Karen Huarte email:  karenhuarte@gmail.com ->\n"
          ],
          "name": "stdout"
        }
      ]
    },
    {
      "cell_type": "code",
      "metadata": {
        "colab": {
          "base_uri": "https://localhost:8080/"
        },
        "id": "B4RZqszfsJ1K",
        "outputId": "0f8f3075-066d-4eb1-d2c4-69cc2fe66dd8"
      },
      "source": [
        "#lista_c.eliminar(201915060)\n",
        "lista_c.recorrer()"
      ],
      "execution_count": 16,
      "outputs": [
        {
          "output_type": "stream",
          "text": [
            "carne:  201915058 nombre:  Gerson Ortiz email:  gersonortiz@gmail.com ->\n",
            "carne:  201915061 nombre:  Luis Mendez email:  luismendez@gmail.com ->\n",
            "carne:  201915060 nombre:  Karen Huarte email:  karenhuarte@gmail.com ->\n"
          ],
          "name": "stdout"
        }
      ]
    },
    {
      "cell_type": "code",
      "metadata": {
        "colab": {
          "base_uri": "https://localhost:8080/"
        },
        "id": "TevKWfNErCSr",
        "outputId": "4c1818e6-1437-4369-ddf0-9a4531a55b08"
      },
      "source": [
        "lista_c.buscar(201915061)"
      ],
      "execution_count": 18,
      "outputs": [
        {
          "output_type": "stream",
          "text": [
            "Estudiante encontrado\n",
            "carne:  201915061 nombre:  Luis Mendez email:  luismendez@gmail.com ->\n"
          ],
          "name": "stdout"
        }
      ]
    }
  ]
}