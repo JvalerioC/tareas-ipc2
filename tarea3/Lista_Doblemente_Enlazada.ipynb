{
  "nbformat": 4,
  "nbformat_minor": 0,
  "metadata": {
    "colab": {
      "name": "Lista Doblemente Enlazada.ipynb",
      "provenance": [],
      "authorship_tag": "ABX9TyOttp7YqoCOwkvQK7k8RZNA",
      "include_colab_link": true
    },
    "kernelspec": {
      "name": "python3",
      "display_name": "Python 3"
    },
    "language_info": {
      "name": "python"
    }
  },
  "cells": [
    {
      "cell_type": "markdown",
      "metadata": {
        "id": "view-in-github",
        "colab_type": "text"
      },
      "source": [
        "<a href=\"https://colab.research.google.com/github/JvalerioC/tareas-ipc2/blob/main/tarea3/Lista_Doblemente_Enlazada.ipynb\" target=\"_parent\"><img src=\"https://colab.research.google.com/assets/colab-badge.svg\" alt=\"Open In Colab\"/></a>"
      ]
    },
    {
      "cell_type": "markdown",
      "metadata": {
        "id": "TOVUpW0gygU9"
      },
      "source": [
        "**Definicion de la clase estudiante**"
      ]
    },
    {
      "cell_type": "code",
      "metadata": {
        "id": "OuFhUctayjvN"
      },
      "source": [
        "class estudiante:\n",
        "  def __init__(self, carne, nombre, edad, direccion, telefono, email, carrera, puesto):\n",
        "    self.carne = carne\n",
        "    self.nombre = nombre\n",
        "    self.edad = edad\n",
        "    self.direccion = direccion\n",
        "    self.telefono = telefono\n",
        "    self.email = email\n",
        "    self.carrera = carrera\n",
        "    self.puesto = puesto"
      ],
      "execution_count": 37,
      "outputs": []
    },
    {
      "cell_type": "markdown",
      "metadata": {
        "id": "HBjt5eM70MIN"
      },
      "source": [
        "**Definicion de la clase Nodo**"
      ]
    },
    {
      "cell_type": "code",
      "metadata": {
        "id": "DbnL0h5P0O_q"
      },
      "source": [
        "class nodo:\n",
        "  def __init__(self, estudiante=None, siguiente=None, anterior=None):\n",
        "    self.estudiante = estudiante\n",
        "    self.siguiente = siguiente\n",
        "    self.anterior = anterior\n",
        "  "
      ],
      "execution_count": 38,
      "outputs": []
    },
    {
      "cell_type": "markdown",
      "metadata": {
        "id": "Hl4YwEIe0jGS"
      },
      "source": [
        "**Definicion de la clase Lista Doblemente Enlazada**"
      ]
    },
    {
      "cell_type": "code",
      "metadata": {
        "id": "CS6Jn74c0okK"
      },
      "source": [
        "class lista_doble:\n",
        "  def __init__(self):\n",
        "    self.primero = None\n",
        "\n",
        "  def insertar(self, estudiante):\n",
        "    if self.primero == None:\n",
        "      self.primero = nodo(estudiante=estudiante)\n",
        "    else:\n",
        "      actual = nodo(estudiante=estudiante, siguiente=self.primero)\n",
        "      self.primero.anterior = actual\n",
        "      self.primero = actual\n",
        "\n",
        "  def recorrer(self):\n",
        "    if self.primero == None:\n",
        "      return\n",
        "    actual = self.primero\n",
        "    print(\"carne: \",actual.estudiante.carne, \"nombre: \",actual.estudiante.nombre, \"email: \", actual.estudiante.email,\"->\")\n",
        "\n",
        "    while actual.siguiente:\n",
        "      actual = actual.siguiente\n",
        "      print(\"carne: \",actual.estudiante.carne, \"nombre: \",actual.estudiante.nombre, \"email: \", actual.estudiante.email,\"->\")\n",
        "\n",
        "  def eliminar(self, carne):\n",
        "    actual = self.primero\n",
        "    while actual:\n",
        "      if actual.estudiante.carne == carne:\n",
        "        if actual.anterior:\n",
        "          if actual.siguiente:\n",
        "            actual.anterior.siguiente = actual.siguiente\n",
        "            actual.siguiente.anterior = actual.anterior\n",
        "          else:\n",
        "            actual.anterior.siguiente = None\n",
        "            actual.anterior = None\n",
        "        else:\n",
        "          if actual.siguiente:\n",
        "            self.primero = actual.siguiente\n",
        "            actual.siguiente.anterior = None\n",
        "          else:\n",
        "            self.primero = None\n",
        "        return True\n",
        "      else:\n",
        "        actual = actual.siguiente\n",
        "    return False\n",
        "\n",
        "  def buscar(self, carne):\n",
        "    actual = self.primero\n",
        "\n",
        "    while actual != None:\n",
        "      if actual.estudiante.carne == carne:\n",
        "        print(\"Estudiante encontrado\")\n",
        "        print(\"carne: \",actual.estudiante.carne, \"nombre: \",actual.estudiante.nombre, \"email: \", actual.estudiante.email,\"->\")\n",
        "        return\n",
        "      actual = actual.siguiente\n",
        "\n",
        "    if actual == None:\n",
        "      print(\"El estudiante no se encuentra en la lista\")\n",
        "          \n",
        "\n"
      ],
      "execution_count": 39,
      "outputs": []
    },
    {
      "cell_type": "markdown",
      "metadata": {
        "id": "wwMpMiWLwWdf"
      },
      "source": [
        "**Creacion de objeto estudiante**"
      ]
    },
    {
      "cell_type": "code",
      "metadata": {
        "id": "Lipkgbh7udT_"
      },
      "source": [
        "e1 =  estudiante(201915058, \"Gerson Ortiz\",20, \"9 calle 10-02\", 44202528, \"gersonortiz@gmail.com\", \"Ingenieria en Sistemas\", \"Programador JR\")\n",
        "e2 =  estudiante(201915060, \"Karen Huarte\",21, \"8 calle 10-02\", 44202529, \"karenhuarte@gmail.com\", \"Ingenieria en Sistemas\", \"Programador JR\")\n",
        "e3 =  estudiante(201915061, \"Luis Mendez\",22, \"7 calle 10-02\", 44202530, \"luismendez@gmail.com\", \"Ingenieria en Sistemas\", \"Programador JR\")"
      ],
      "execution_count": 40,
      "outputs": []
    },
    {
      "cell_type": "markdown",
      "metadata": {
        "id": "WCcsVffXwcNk"
      },
      "source": [
        "**inseccion**"
      ]
    },
    {
      "cell_type": "code",
      "metadata": {
        "id": "JtQMq3oGugTv"
      },
      "source": [
        "lista_d = lista_doble()\n",
        "lista_d.insertar(e1)\n",
        "lista_d.insertar(e2)\n",
        "lista_d.insertar(e3)"
      ],
      "execution_count": 41,
      "outputs": []
    },
    {
      "cell_type": "markdown",
      "metadata": {
        "id": "pwD4R_tPweXR"
      },
      "source": [
        "**recorrer**"
      ]
    },
    {
      "cell_type": "code",
      "metadata": {
        "colab": {
          "base_uri": "https://localhost:8080/"
        },
        "id": "vhshXnTOwhI6",
        "outputId": "9cd8b5ba-7fb2-45b0-aef6-b40cc739cf59"
      },
      "source": [
        "lista_d.recorrer()"
      ],
      "execution_count": 42,
      "outputs": [
        {
          "output_type": "stream",
          "text": [
            "carne:  201915061 nombre:  Luis Mendez email:  luismendez@gmail.com ->\n",
            "carne:  201915060 nombre:  Karen Huarte email:  karenhuarte@gmail.com ->\n",
            "carne:  201915058 nombre:  Gerson Ortiz email:  gersonortiz@gmail.com ->\n"
          ],
          "name": "stdout"
        }
      ]
    },
    {
      "cell_type": "markdown",
      "metadata": {
        "id": "yro6zj7R7jk6"
      },
      "source": [
        "**Eliminar el nodo de en medio de la lista**"
      ]
    },
    {
      "cell_type": "code",
      "metadata": {
        "id": "Elc7GB2y2zdj"
      },
      "source": [
        "#lista_d.eliminar(201915060)"
      ],
      "execution_count": 43,
      "outputs": []
    },
    {
      "cell_type": "code",
      "metadata": {
        "id": "bEEgO54676P5"
      },
      "source": [
        "#lista_d.recorrer()"
      ],
      "execution_count": 44,
      "outputs": []
    },
    {
      "cell_type": "markdown",
      "metadata": {
        "id": "FT66GPXd8GQ7"
      },
      "source": [
        "**Eliminar el nodo primero de la lista**"
      ]
    },
    {
      "cell_type": "code",
      "metadata": {
        "id": "kMCW1GJF8IYe"
      },
      "source": [
        "#lista_d.eliminar(201915061)"
      ],
      "execution_count": 45,
      "outputs": []
    },
    {
      "cell_type": "markdown",
      "metadata": {
        "id": "NoQOrTXi8W2C"
      },
      "source": [
        "**Eliminar el ultimo nodo de la lista**"
      ]
    },
    {
      "cell_type": "code",
      "metadata": {
        "id": "uDnPafS28bOV"
      },
      "source": [
        "#lista_d.eliminar(201915058)"
      ],
      "execution_count": 46,
      "outputs": []
    },
    {
      "cell_type": "markdown",
      "metadata": {
        "id": "An-1J7wi87kS"
      },
      "source": [
        "**Eliminar nodo a nodo la lista**"
      ]
    },
    {
      "cell_type": "code",
      "metadata": {
        "id": "BzzVcKwm8_gG"
      },
      "source": [
        "#lista_d.eliminar(201915061)\n",
        "#lista_d.recorrer()\n"
      ],
      "execution_count": 47,
      "outputs": []
    },
    {
      "cell_type": "code",
      "metadata": {
        "id": "PIU7mMGw9g7E"
      },
      "source": [
        "#lista_d.eliminar(201915060)\n",
        "#lista_d.recorrer()"
      ],
      "execution_count": 48,
      "outputs": []
    },
    {
      "cell_type": "code",
      "metadata": {
        "id": "0X6gVnL09kfJ"
      },
      "source": [
        "#lista_d.eliminar(201915058)\n",
        "#lista_d.recorrer()"
      ],
      "execution_count": 49,
      "outputs": []
    },
    {
      "cell_type": "markdown",
      "metadata": {
        "id": "ur6H1_F113Ax"
      },
      "source": [
        "**Buscar un estudiante en la lista**"
      ]
    },
    {
      "cell_type": "code",
      "metadata": {
        "colab": {
          "base_uri": "https://localhost:8080/"
        },
        "id": "uJnjIMS715k8",
        "outputId": "96dc15f2-b8a7-4698-db34-9c575a2886c2"
      },
      "source": [
        "lista_d.buscar(201915058)\n",
        "lista_d.buscar(201915061)\n",
        "lista_d.buscar(201915060)"
      ],
      "execution_count": 53,
      "outputs": [
        {
          "output_type": "stream",
          "text": [
            "Estudiante encontrado\n",
            "carne:  201915058 nombre:  Gerson Ortiz email:  gersonortiz@gmail.com ->\n",
            "Estudiante encontrado\n",
            "carne:  201915061 nombre:  Luis Mendez email:  luismendez@gmail.com ->\n",
            "Estudiante encontrado\n",
            "carne:  201915060 nombre:  Karen Huarte email:  karenhuarte@gmail.com ->\n"
          ],
          "name": "stdout"
        }
      ]
    }
  ]
}